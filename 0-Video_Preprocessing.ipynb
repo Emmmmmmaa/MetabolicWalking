{
 "cells": [
  {
   "cell_type": "code",
   "execution_count": null,
   "metadata": {},
   "outputs": [],
   "source": [
    "import os\n",
    "import cv2"
   ]
  },
  {
   "cell_type": "code",
   "execution_count": null,
   "metadata": {},
   "outputs": [],
   "source": [
    "# video preprocessing\n",
    "video_path = r'E:\\Workfolder\\Computer-vision\\shade-human\\data\\raw-video\\Kabukicho\\Kabukicho_240825_truncated.mp4'  # change input path\n",
    "file_name = os.path.splitext(os.path.basename(video_path))[0]\n",
    "\n",
    "# option 1 Adjust the frame rate to 5 FPS, and the total duration remains unchanged\n",
    "!ffmpeg -i \"data/raw video/Kabukicho_240825_truncated.mp4\" -r 5 \"data/raw video/Kabukicho_240825_truncated_5fps.mp4\"\n"
   ]
  },
  {
   "cell_type": "code",
   "execution_count": null,
   "metadata": {},
   "outputs": [],
   "source": [
    "# option 2 function: subsample/time laspe video\n",
    "def subsample_video(input_path, output_path, time_lapse_interval):\n",
    "    cap = cv2.VideoCapture(input_path)\n",
    "    if not cap.isOpened():\n",
    "        print(\"Error: Couldn't open video file.\")\n",
    "        return\n",
    "\n",
    "    frame_count = 0\n",
    "    fps = cap.get(cv2.CAP_PROP_FPS)\n",
    "    width = int(cap.get(cv2.CAP_PROP_FRAME_WIDTH))\n",
    "    height = int(cap.get(cv2.CAP_PROP_FRAME_HEIGHT))\n",
    "    codec = cv2.VideoWriter_fourcc(*'XVID')\n",
    "    out = cv2.VideoWriter(output_path, codec, fps, (width, height))\n",
    "\n",
    "    while cap.isOpened():\n",
    "        ret, frame = cap.read()\n",
    "        if not ret:\n",
    "            break\n",
    "\n",
    "        # Collect one frame out of every xx frames\n",
    "        if frame_count % time_lapse_interval == 0:\n",
    "            out.write(frame)\n",
    "\n",
    "        frame_count += 1\n",
    "\n",
    "    cap.release()\n",
    "    out.release()\n",
    "    cv2.destroyAllWindows()\n",
    "\n",
    "if __name__ == \"__main__\":\n",
    "    time_lapse_interval = 5 # change here\n",
    "    input_file = video_path \n",
    "    output_file = f\"data/raw video/time_lapse/{file_name}_timelapsed{time_lapse_interval}.mp4\"  \n",
    "    subsample_video(input_file, output_file, time_lapse_interval)\n",
    "    print(f\"saved to {output_file}\")"
   ]
  }
 ],
 "metadata": {
  "language_info": {
   "name": "python"
  }
 },
 "nbformat": 4,
 "nbformat_minor": 2
}
